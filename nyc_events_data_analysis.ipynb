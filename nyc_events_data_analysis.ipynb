{
 "cells": [
  {
   "cell_type": "code",
   "execution_count": null,
   "metadata": {
    "collapsed": true
   },
   "outputs": [],
   "source": [
    "import json\n",
    "import pandas as pd\n",
    "import numpy as np\n",
    "import matplotlib.pyplot as plt\n",
    "import matplotlib.patches as mpatches\n",
    "from matplotlib import cm\n",
    "import requests\n",
    "from random import shuffle\n",
    "from pandas.io.json import json_normalize"
   ]
  },
  {
   "cell_type": "code",
   "execution_count": null,
   "metadata": {
    "collapsed": true
   },
   "outputs": [],
   "source": [
    "# This is data from the city of new york site about permitted events.\n",
    "# For more info: https://data.cityofnewyork.us/City-Government/NYC-Permitted-Event-Information/tvpp-9vvx"
   ]
  },
  {
   "cell_type": "code",
   "execution_count": null,
   "metadata": {
    "collapsed": true
   },
   "outputs": [],
   "source": [
    "# Decided to go with the api rather than csv since it's updated daily"
   ]
  },
  {
   "cell_type": "code",
   "execution_count": null,
   "metadata": {
    "collapsed": true
   },
   "outputs": [],
   "source": [
    "json_path = 'https://data.cityofnewyork.us/resource/8end-qv57.json'\n",
    "df = pd.read_json(json_path)\n",
    "print(df[:5])"
   ]
  },
  {
   "cell_type": "code",
   "execution_count": null,
   "metadata": {
    "collapsed": true
   },
   "outputs": [],
   "source": [
    "# How many permits are there for upcoming events by borough:"
   ]
  },
  {
   "cell_type": "code",
   "execution_count": null,
   "metadata": {
    "collapsed": true
   },
   "outputs": [],
   "source": [
    "df.groupby(['event_borough']).size()"
   ]
  },
  {
   "cell_type": "code",
   "execution_count": null,
   "metadata": {
    "collapsed": true
   },
   "outputs": [],
   "source": [
    "df.groupby(['event_borough','event_type']).size()"
   ]
  },
  {
   "cell_type": "code",
   "execution_count": null,
   "metadata": {
    "collapsed": true
   },
   "outputs": [],
   "source": [
    "# Graphing number of upcoming events by type and borough"
   ]
  },
  {
   "cell_type": "code",
   "execution_count": null,
   "metadata": {
    "collapsed": true,
    "scrolled": false
   },
   "outputs": [],
   "source": [
    "bar = df.groupby(['event_borough','event_type']).size().unstack().plot(kind='bar', \n",
    "                                                                       stacked=True, \n",
    "                                                                       fontsize = 'x-large', \n",
    "                                                                       colormap='gist_ncar')\n",
    "bar.legend(loc='upper left', bbox_to_anchor=(1, 1), fontsize=20)\n",
    "box = bar.get_position()\n",
    "bar.set_position([box.x0, box.y0, box.width * .75, box.height * .75])\n",
    "bar.set_xlabel('NYC Borough')\n",
    "bar.set_title('Types of Events by NYC Borough', fontsize=50, fontweight='bold')\n",
    "plt.show(bar)"
   ]
  },
  {
   "cell_type": "code",
   "execution_count": null,
   "metadata": {
    "collapsed": true
   },
   "outputs": [],
   "source": [
    "#checking that the date times are perceived as such\n",
    "print(type(df['start_date_time'][3]))\n",
    "print(type(df['end_date_time'][3]))"
   ]
  },
  {
   "cell_type": "code",
   "execution_count": null,
   "metadata": {
    "collapsed": true
   },
   "outputs": [],
   "source": [
    "# Let's see on what day of the week is there the most upcoming events?"
   ]
  },
  {
   "cell_type": "code",
   "execution_count": null,
   "metadata": {
    "collapsed": true
   },
   "outputs": [],
   "source": [
    "df['start_weekday'] = df['start_date_time'].dt.weekday_name"
   ]
  },
  {
   "cell_type": "code",
   "execution_count": null,
   "metadata": {
    "collapsed": true
   },
   "outputs": [],
   "source": [
    "print(df['start_weekday'][:5])"
   ]
  },
  {
   "cell_type": "code",
   "execution_count": null,
   "metadata": {
    "collapsed": true
   },
   "outputs": [],
   "source": [
    "df['end_weekday'] = df['end_date_time'].dt.weekday_name"
   ]
  },
  {
   "cell_type": "code",
   "execution_count": null,
   "metadata": {
    "collapsed": true
   },
   "outputs": [],
   "source": [
    "print(df['end_weekday'][:5])"
   ]
  },
  {
   "cell_type": "code",
   "execution_count": null,
   "metadata": {
    "collapsed": true
   },
   "outputs": [],
   "source": [
    "wk0 = df[['start_weekday', 'event_id']].groupby(['start_weekday']).count()\n",
    "wk0.sort_values('event_id', ascending=False)"
   ]
  },
  {
   "cell_type": "code",
   "execution_count": null,
   "metadata": {
    "collapsed": true
   },
   "outputs": [],
   "source": [
    "# Most upcoming events are on Thursday and the least are on Monday\n",
    "# Now we can take a look at day of the week events by borough and type"
   ]
  },
  {
   "cell_type": "code",
   "execution_count": null,
   "metadata": {
    "collapsed": true
   },
   "outputs": [],
   "source": [
    "wk1 = df[['start_weekday', 'event_borough','event_type', 'event_id']].groupby(['start_weekday', 'event_borough','event_type']).count()"
   ]
  },
  {
   "cell_type": "code",
   "execution_count": null,
   "metadata": {
    "collapsed": true
   },
   "outputs": [],
   "source": [
    "wk1"
   ]
  },
  {
   "cell_type": "code",
   "execution_count": null,
   "metadata": {
    "collapsed": true
   },
   "outputs": [],
   "source": [
    "wk1"
   ]
  },
  {
   "cell_type": "code",
   "execution_count": null,
   "metadata": {
    "collapsed": true
   },
   "outputs": [],
   "source": [
    "sort1 = wk1.sort_values('event_id', ascending=False)"
   ]
  },
  {
   "cell_type": "code",
   "execution_count": null,
   "metadata": {
    "collapsed": true
   },
   "outputs": [],
   "source": [
    "sort1"
   ]
  },
  {
   "cell_type": "code",
   "execution_count": null,
   "metadata": {
    "collapsed": true
   },
   "outputs": [],
   "source": [
    "# The most upcoming permitted events of one type in one borough are 49 special events in Manhattan on Thursdays and Sundays\n",
    "# Followed by 47 permitted construction events on Thursdays in Manhattan"
   ]
  },
  {
   "cell_type": "code",
   "execution_count": null,
   "metadata": {
    "collapsed": true
   },
   "outputs": [],
   "source": [
    "# Now I'm wondering what is a Special Event though..."
   ]
  },
  {
   "cell_type": "code",
   "execution_count": null,
   "metadata": {
    "collapsed": true
   },
   "outputs": [],
   "source": [
    "sp = df.loc[(df['event_type'] == 'Special Event')]"
   ]
  },
  {
   "cell_type": "code",
   "execution_count": null,
   "metadata": {
    "collapsed": true
   },
   "outputs": [],
   "source": [
    "sp"
   ]
  },
  {
   "cell_type": "code",
   "execution_count": null,
   "metadata": {
    "collapsed": true
   },
   "outputs": [],
   "source": [
    "# Looking at the event names in the filtered df snapshot, some of these \"Special Events\" are parades, some farmer's markets\n",
    "# How many permits have been obtained with a event type mislabled as \"Special Events\"?"
   ]
  },
  {
   "cell_type": "code",
   "execution_count": null,
   "metadata": {
    "collapsed": true
   },
   "outputs": [],
   "source": [
    "df.groupby('event_type').size()"
   ]
  },
  {
   "cell_type": "code",
   "execution_count": null,
   "metadata": {
    "collapsed": true
   },
   "outputs": [],
   "source": [
    "df.groupby(['event_agency', 'event_type']).size()"
   ]
  },
  {
   "cell_type": "code",
   "execution_count": null,
   "metadata": {
    "collapsed": true
   },
   "outputs": [],
   "source": [
    "# Looks like the Parks Department is the only one to label things as \"Special Events\" \n",
    "# We can take a closer look at the Special Events dataframe now: sp"
   ]
  },
  {
   "cell_type": "code",
   "execution_count": null,
   "metadata": {
    "collapsed": true
   },
   "outputs": [],
   "source": [
    "sp_not_special = sp.loc[df['event_name'].str.contains(re.compile(\n",
    "    'theater|constuction|athletic|parade|block|farmer|plaza|production|sale|street', re.IGNORECASE))]"
   ]
  },
  {
   "cell_type": "code",
   "execution_count": null,
   "metadata": {
    "collapsed": true
   },
   "outputs": [],
   "source": [
    "sp_not_special['event_id'].count()"
   ]
  },
  {
   "cell_type": "code",
   "execution_count": null,
   "metadata": {
    "collapsed": true
   },
   "outputs": [],
   "source": [
    "# 84 mislabled Special Events: let's fix that"
   ]
  },
  {
   "cell_type": "code",
   "execution_count": null,
   "metadata": {
    "collapsed": true
   },
   "outputs": [],
   "source": [
    "df"
   ]
  },
  {
   "cell_type": "code",
   "execution_count": null,
   "metadata": {
    "collapsed": true
   },
   "outputs": [],
   "source": [
    "def new_event_type(row):\n",
    "    if \"Special\" in row.event_type and \"Farmer\" in row.event_name:\n",
    "        return \"Farmers Market\"\n",
    "    if \"Special\" in row.event_type and \"Green\" in row.event_name:\n",
    "        return \"Farmers Market\"\n",
    "    if \"Special\" in row.event_type and \"arade\" in row.event_name:\n",
    "        return \"Parade\"\n",
    "    if \"Special\" in row.event_type and \"Run\" in row.event_name:\n",
    "        return \"Athletic Race / Tour\"\n",
    "    if \"Special\" in row.event_type and \"Athletic\" in row.event_name:\n",
    "        return \"Athletic Race / Tour\"\n",
    "    if \"Special\" in row.event_type and \"Block\" in row.event_name:\n",
    "        return \"Block Party\"\n",
    "    if \"Special\" in row.event_type and \"Film\" in row.event_name:\n",
    "        return \"Production Event\"\n",
    "    if \"Special\" in row.event_type and \"Sale\" in row.event_name:\n",
    "        return \"Sidewalk Sale\"\n",
    "    if \"Special\" in row.event_type and \"Festival\" in row.event_name:\n",
    "        return \"Street Festival\"\n",
    "    # we can add some more categories so that special event is more clear\n",
    "    if \"Special\" in row.event_type and \"Holiday\" in row.event_name:\n",
    "        return \"Holiday Celebration\"\n",
    "    if \"Special\" in row.event_type and \"class\" in row.event_name:\n",
    "        return \"Educational Event\"\n",
    "    if \"Special\" in row.event_type and \"Party\" in row.event_name:\n",
    "        return \"Party\"\n",
    "    if \"Special\" in row.event_type and \"Protest\" in row.event_name:\n",
    "        return \"Protest\"\n",
    "    if \"Special\" in row.event_type and \"Winter\" in row.event_name:\n",
    "        return \"Holiday Celebration\"\n",
    "    else:\n",
    "        return row.event_type\n",
    "df.loc[:, 'new_event_type'] = df.apply(new_event_type, axis = 1)"
   ]
  },
  {
   "cell_type": "code",
   "execution_count": null,
   "metadata": {
    "collapsed": true
   },
   "outputs": [],
   "source": [
    "df"
   ]
  },
  {
   "cell_type": "code",
   "execution_count": null,
   "metadata": {
    "collapsed": true
   },
   "outputs": [],
   "source": [
    "# While we are cleaning, let remove those commas in the police_precinct column"
   ]
  },
  {
   "cell_type": "code",
   "execution_count": null,
   "metadata": {
    "collapsed": true
   },
   "outputs": [],
   "source": [
    "df['police_precinct'] = df.police_precinct.str.replace(',' , '')"
   ]
  },
  {
   "cell_type": "code",
   "execution_count": null,
   "metadata": {
    "collapsed": true
   },
   "outputs": [],
   "source": [
    "df"
   ]
  },
  {
   "cell_type": "code",
   "execution_count": null,
   "metadata": {
    "collapsed": true
   },
   "outputs": [],
   "source": [
    "# Now that we have a new_event_type column that gives some more specification to the Special Events,\n",
    "# we can look make a events by type revised graph"
   ]
  },
  {
   "cell_type": "code",
   "execution_count": null,
   "metadata": {
    "collapsed": true
   },
   "outputs": [],
   "source": [
    "# NOTE: make pivot & then to percentage and then graph\n",
    "# NOTE2: after that see if can plot on map using addresses, if not maybe latitude and long of precincts?"
   ]
  },
  {
   "cell_type": "code",
   "execution_count": null,
   "metadata": {
    "collapsed": true
   },
   "outputs": [],
   "source": [
    "df"
   ]
  },
  {
   "cell_type": "code",
   "execution_count": null,
   "metadata": {
    "collapsed": true
   },
   "outputs": [],
   "source": [
    "updated_type = df[['new_event_type', 'event_borough', 'event_id']].groupby(['new_event_type', 'event_borough']).count()"
   ]
  },
  {
   "cell_type": "code",
   "execution_count": null,
   "metadata": {
    "collapsed": true
   },
   "outputs": [],
   "source": [
    "updated_type"
   ]
  },
  {
   "cell_type": "code",
   "execution_count": null,
   "metadata": {
    "collapsed": true
   },
   "outputs": [],
   "source": [
    "df2 = pd.DataFrame({'Percentage_total_events': df.groupby(('new_event_type', 'event_borough')).size() / len(df)})"
   ]
  },
  {
   "cell_type": "code",
   "execution_count": null,
   "metadata": {
    "collapsed": true
   },
   "outputs": [],
   "source": [
    "df2"
   ]
  },
  {
   "cell_type": "code",
   "execution_count": null,
   "metadata": {
    "collapsed": true
   },
   "outputs": [],
   "source": [
    "updated_type.event_id"
   ]
  },
  {
   "cell_type": "code",
   "execution_count": null,
   "metadata": {
    "collapsed": true
   },
   "outputs": [],
   "source": [
    "res = df2.apply(lambda x: x.sort_values(ascending=False).head(17))"
   ]
  },
  {
   "cell_type": "raw",
   "metadata": {},
   "source": []
  },
  {
   "cell_type": "code",
   "execution_count": null,
   "metadata": {
    "collapsed": true
   },
   "outputs": [],
   "source": [
    "color_url = 'https://xkcd.com/color/rgb.txt'\n",
    "r = requests.get(color_url)\n"
   ]
  },
  {
   "cell_type": "code",
   "execution_count": null,
   "metadata": {
    "collapsed": true
   },
   "outputs": [],
   "source": [
    "ll = []\n",
    "for line in r:\n",
    "    rev = str(line).split('\\\\')\n",
    "    ll.extend(rev)"
   ]
  },
  {
   "cell_type": "code",
   "execution_count": null,
   "metadata": {
    "collapsed": true
   },
   "outputs": [],
   "source": [
    "color_list1 = []\n",
    "for l in ll:\n",
    "    if 't#' in l:\n",
    "        rev = str(l).split('t')\n",
    "        color_list1.append(rev[1])\n",
    "    else:\n",
    "        continue\n",
    "color_list1\n"
   ]
  },
  {
   "cell_type": "code",
   "execution_count": null,
   "metadata": {
    "collapsed": true
   },
   "outputs": [],
   "source": [
    "color_list2 = shuffle(color_list1)"
   ]
  },
  {
   "cell_type": "code",
   "execution_count": null,
   "metadata": {
    "collapsed": true
   },
   "outputs": [],
   "source": []
  },
  {
   "cell_type": "code",
   "execution_count": null,
   "metadata": {
    "collapsed": true
   },
   "outputs": [],
   "source": [
    "df3 = df2.apply(lambda x: x.sort_values(ascending=False).head(10))\n",
    "pie1 = plt.pie(df3, shadow=True, startangle=10, colors=color_list2)\n",
    "labels= df3.index\n",
    "sizes= df3.values * 100\n",
    "fig_size = plt.rcParams[\"figure.figsize\"]\n",
    "fig_size[0] = 25\n",
    "fig_size[1] = 15\n",
    "plt.axis('equal')\n",
    "plt.title('Distribution of top 10 events by revised type and NYC borough', fontsize=40, fontweight='bold')\n",
    "plt.legend(loc='lower right',fontsize=7, bbox_to_anchor = (1.12, -0.1), labels=['%s, %1.1f %%' % (l, s) for l, s in zip(labels, sizes)], prop={'size':30})\n",
    "plt.show()"
   ]
  },
  {
   "cell_type": "code",
   "execution_count": null,
   "metadata": {
    "collapsed": true
   },
   "outputs": [],
   "source": [
    "df"
   ]
  },
  {
   "cell_type": "code",
   "execution_count": null,
   "metadata": {
    "collapsed": true
   },
   "outputs": [],
   "source": [
    "# Let's see if we can map the locations of these events using the police_precinct locations\n",
    "# But first we need to get the locations of the police_precincts\n",
    "# put this infomation http://services5.arcgis.com/GfwWNkhOj9bNBqoJ/arcgis/rest/services/nypp/FeatureServer/0/query?where=1=1&outFields=*&outSR=4326&f=geojson\n",
    "#into the file nyc_police.geojson"
   ]
  },
  {
   "cell_type": "code",
   "execution_count": null,
   "metadata": {
    "collapsed": true
   },
   "outputs": [],
   "source": [
    "from geojson import Point, Polygon\n",
    "import geopandas as gpd"
   ]
  },
  {
   "cell_type": "code",
   "execution_count": null,
   "metadata": {
    "collapsed": true
   },
   "outputs": [],
   "source": [
    "p1 = Point(0,0)\n",
    "polygon = Polygon([(0,0),(1,1),(1,0)])\n",
    "geo = '/Users/isobel/Desktop/nyc_police.geojson'\n",
    "police_file = gpd.read_file(geo)\n",
    "print(police_file.head(5))"
   ]
  },
  {
   "cell_type": "code",
   "execution_count": null,
   "metadata": {
    "collapsed": true
   },
   "outputs": [],
   "source": [
    "file2 = police_file.to_json()"
   ]
  },
  {
   "cell_type": "code",
   "execution_count": null,
   "metadata": {
    "collapsed": true
   },
   "outputs": [],
   "source": []
  },
  {
   "cell_type": "code",
   "execution_count": null,
   "metadata": {
    "collapsed": true
   },
   "outputs": [],
   "source": []
  }
 ],
 "metadata": {
  "kernelspec": {
   "display_name": "Python 3",
   "language": "python",
   "name": "python3"
  },
  "language_info": {
   "codemirror_mode": {
    "name": "ipython",
    "version": 3
   },
   "file_extension": ".py",
   "mimetype": "text/x-python",
   "name": "python",
   "nbconvert_exporter": "python",
   "pygments_lexer": "ipython3",
   "version": "3.6.2"
  }
 },
 "nbformat": 4,
 "nbformat_minor": 2
}
